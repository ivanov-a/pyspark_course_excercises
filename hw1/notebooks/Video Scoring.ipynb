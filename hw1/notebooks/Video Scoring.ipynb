{
 "cells": [
  {
   "cell_type": "code",
   "execution_count": 1,
   "id": "4b94b2e0-3796-411b-ad82-1b56e7f89e1f",
   "metadata": {},
   "outputs": [],
   "source": [
    "import pyspark\n",
    "from pyspark.sql.functions import *\n",
    "from pyspark.sql.types import *\n",
    "from pyspark.sql import SparkSession\n",
    "\n",
    "spark = SparkSession.builder.master(\"local\") \\\n",
    "    .config('spark.sql.autoBroadcastJoinThreshold', 0) \\\n",
    "    .config('spark.sql.adaptive.enabled', 'false') \\\n",
    "    .getOrCreate()"
   ]
  },
  {
   "cell_type": "code",
   "execution_count": 2,
   "id": "390181aa-a25e-4367-8457-4b05cd20d6e2",
   "metadata": {},
   "outputs": [],
   "source": [
    "import json\n",
    "import pandas as pd\n",
    "from pyspark.sql.window import Window"
   ]
  },
  {
   "cell_type": "code",
   "execution_count": 3,
   "id": "6a2656f9-a307-480e-9afd-0bbaa131e310",
   "metadata": {},
   "outputs": [],
   "source": [
    "videos = spark.read.option('header', 'true').option(\"inferSchema\", \"true\").csv('../datasets/USvideos.csv')"
   ]
  },
  {
   "cell_type": "code",
   "execution_count": 4,
   "id": "ba2e44a7-63c7-4a23-8ec6-38f0da7bd938",
   "metadata": {},
   "outputs": [],
   "source": [
    "# берем только самые свежие данные по видео, основываясь на дате date\n",
    "w = Window.partitionBy(\"video_id\").orderBy(to_timestamp(substring(col(\"date\"), 1, 5), 'dd.MM'))\n",
    "videos_newest = videos \\\n",
    "    .withColumn('rn', row_number().over(w)) \\\n",
    "    .where(col('rn') == 1) \\\n",
    "    .drop('rn')"
   ]
  },
  {
   "cell_type": "code",
   "execution_count": 5,
   "id": "6daf1b18-1669-455c-a834-197e30e0f8f0",
   "metadata": {},
   "outputs": [
    {
     "data": {
      "text/plain": [
       "2364"
      ]
     },
     "execution_count": 5,
     "metadata": {},
     "output_type": "execute_result"
    }
   ],
   "source": [
    "videos_newest.cache()\n",
    "videos_newest.count()"
   ]
  },
  {
   "cell_type": "code",
   "execution_count": 6,
   "id": "805005cc-0c92-45e3-ab79-44a348f9c2d3",
   "metadata": {
    "scrolled": true
   },
   "outputs": [],
   "source": [
    "comments_schema = StructType([ \\\n",
    "    StructField(\"video_id\", StringType(), True), \\\n",
    "    StructField(\"comment_text\", StringType(), True), \\\n",
    "    StructField(\"likes\", IntegerType(), True), \\\n",
    "    StructField(\"replies\", IntegerType(), True)])\n",
    "comments = spark.read.option('header', 'true') \\\n",
    "    .option(\"mode\", \"DROPMALFORMED\") \\\n",
    "    .schema(comments_schema) \\\n",
    "    .csv('../datasets/UScomments.csv')"
   ]
  },
  {
   "cell_type": "markdown",
   "id": "6d476554-2daa-4fce-99e4-d10ce0f9740e",
   "metadata": {},
   "source": [
    "Если бы датасет comments был большого размера и возникла бы необходимость читать его с диска несколько раз, \n",
    "то эффективно было бы применить бакетирование "
   ]
  },
  {
   "cell_type": "raw",
   "id": "b025d122-5ed7-4c22-8605-96596ae41d65",
   "metadata": {
    "scrolled": true
   },
   "source": [
    "%%time\n",
    "\n",
    "comments.write \\\n",
    "    .bucketBy(100, 'video_id') \\\n",
    "    .saveAsTable('comments_bucket', format='csv', mode='overwrite')"
   ]
  },
  {
   "cell_type": "code",
   "execution_count": 7,
   "id": "77079ec2-1a7c-4d93-b939-384be1836a30",
   "metadata": {},
   "outputs": [],
   "source": [
    "comments_stat = comments.groupBy('video_id').agg(\n",
    "    sum('likes').alias('comment_likes'), \n",
    "    sum('replies').alias('comment_replies'))"
   ]
  },
  {
   "cell_type": "code",
   "execution_count": 8,
   "id": "b64092c1-25ff-4ddd-8736-f36df06f2b93",
   "metadata": {
    "scrolled": true
   },
   "outputs": [
    {
     "data": {
      "text/plain": [
       "2266"
      ]
     },
     "execution_count": 8,
     "metadata": {},
     "output_type": "execute_result"
    }
   ],
   "source": [
    "video_data = videos_newest.join(comments_stat, 'video_id')\n",
    "\n",
    "video_data.cache()\n",
    "video_data.count()"
   ]
  },
  {
   "cell_type": "markdown",
   "id": "7dcc6e8f-98e4-49bb-a1f2-cd9b88c517bc",
   "metadata": {},
   "source": [
    "## Добавление колонки score"
   ]
  },
  {
   "cell_type": "code",
   "execution_count": 9,
   "id": "33d4982b-fdcd-4030-89cb-a9bcb9458393",
   "metadata": {},
   "outputs": [],
   "source": [
    "def sum_func(likes: pd.Series, \n",
    "             dislikes: pd.Series,\n",
    "             views: pd.Series,\n",
    "             comment_likes: pd.Series,\n",
    "             comment_replies: pd.Series,) -> pd.Series:\n",
    "    return ((likes*100/(likes + dislikes + 1)) + \n",
    "            ((comment_replies + comment_likes)*100/(views + comment_likes + comment_replies)))/2\n",
    "\n",
    "sum_func = pandas_udf(sum_func, returnType=LongType())"
   ]
  },
  {
   "cell_type": "code",
   "execution_count": 10,
   "id": "8c0ab303-f75a-4213-a070-5817588c58bf",
   "metadata": {},
   "outputs": [],
   "source": [
    "scored_videos = video_data\\\n",
    "    .withColumn(\"score\",\n",
    "                sum_func(\"likes\", \"dislikes\", \"views\", \"comment_likes\", \"comment_replies\"))"
   ]
  },
  {
   "cell_type": "code",
   "execution_count": 11,
   "id": "fb0f6fbc-7ee7-42d2-ac28-5c17964a429e",
   "metadata": {},
   "outputs": [
    {
     "data": {
      "text/plain": [
       "2266"
      ]
     },
     "execution_count": 11,
     "metadata": {},
     "output_type": "execute_result"
    }
   ],
   "source": [
    "scored_videos.cache()\n",
    "scored_videos.count()"
   ]
  },
  {
   "cell_type": "code",
   "execution_count": 12,
   "id": "c4a3ac88-c7a5-42a9-a1c5-6743f301a79a",
   "metadata": {},
   "outputs": [
    {
     "name": "stdout",
     "output_type": "stream",
     "text": [
      "+-----------+-----+\n",
      "|video_id   |score|\n",
      "+-----------+-----+\n",
      "|zAtHxJvSczA|77   |\n",
      "|MRNqDbd2rdE|75   |\n",
      "|50JL8DEeeS4|67   |\n",
      "|gzh6tcMsyoQ|65   |\n",
      "|uHYNSaW6Ttw|60   |\n",
      "|J0sg_Au8zX8|58   |\n",
      "|3QWQ4gN3j4E|58   |\n",
      "|AYrTkoRr6hk|57   |\n",
      "|6HXaooyXjds|55   |\n",
      "|zyPIdeF4NFI|55   |\n",
      "+-----------+-----+\n",
      "only showing top 10 rows\n",
      "\n"
     ]
    }
   ],
   "source": [
    "scored_videos.select(\"video_id\", \"score\").orderBy(desc(\"score\")).show(10, False)"
   ]
  },
  {
   "cell_type": "markdown",
   "id": "0a749692-ffa4-4403-b520-fcd2032e9451",
   "metadata": {},
   "source": [
    "## Медина score по категориям"
   ]
  },
  {
   "cell_type": "code",
   "execution_count": 13,
   "id": "60f8aa73-5992-4410-8de9-f6811c12e174",
   "metadata": {},
   "outputs": [],
   "source": [
    "with open(\"../datasets/US_category_id.json\") as f:\n",
    "    data = json.load(f)\n",
    "    category_catalog = spark.createDataFrame(data['items'])"
   ]
  },
  {
   "cell_type": "code",
   "execution_count": 14,
   "id": "a0b191de-495d-47c0-a091-31a7d7434c71",
   "metadata": {},
   "outputs": [],
   "source": [
    "video_with_categories = scored_videos\\\n",
    "    .join(broadcast(category_catalog).selectExpr(\"id\", \"snippet.title as category\"), \n",
    "          scored_videos.category_id == category_catalog.id)\\\n",
    "    .drop(\"id\")"
   ]
  },
  {
   "cell_type": "code",
   "execution_count": null,
   "id": "9bee5a73-b5b5-438c-a26e-58f4608a239b",
   "metadata": {},
   "outputs": [],
   "source": [
    "from numpy import median\n",
    "\n",
    "@pandas_udf(DoubleType(), functionType=PandasUDFType.GROUPED_AGG)\n",
    "def numpy_median(score: pd.Series) -> pd.Series:\n",
    "    return median(score)"
   ]
  },
  {
   "cell_type": "code",
   "execution_count": 16,
   "id": "0ac5c795-95a4-421c-9718-f67c4742c57e",
   "metadata": {},
   "outputs": [
    {
     "name": "stdout",
     "output_type": "stream",
     "text": [
      "+--------------------+-------------------+\n",
      "|            category|numpy_median(score)|\n",
      "+--------------------+-------------------+\n",
      "|               Shows|               47.0|\n",
      "|           Education|               49.0|\n",
      "|              Gaming|               48.0|\n",
      "|       Entertainment|               48.0|\n",
      "|     Travel & Events|               48.0|\n",
      "|Science & Technology|               48.0|\n",
      "|              Sports|               47.0|\n",
      "|       Howto & Style|               49.0|\n",
      "|Nonprofits & Acti...|               47.5|\n",
      "|    Film & Animation|               48.0|\n",
      "|      People & Blogs|               48.0|\n",
      "|     News & Politics|               43.0|\n",
      "|      Pets & Animals|               49.0|\n",
      "|    Autos & Vehicles|               48.0|\n",
      "|               Music|               49.0|\n",
      "|              Comedy|               48.0|\n",
      "+--------------------+-------------------+\n",
      "\n"
     ]
    }
   ],
   "source": [
    "categories_score = video_with_categories.groupBy(\"category\").agg(numpy_median(\"score\"))\n",
    "categories_score.show()"
   ]
  },
  {
   "cell_type": "markdown",
   "id": "f217bdcc-497a-4ba4-afd4-965d6327f772",
   "metadata": {},
   "source": [
    "## Самые популярные тэги"
   ]
  },
  {
   "cell_type": "code",
   "execution_count": 17,
   "id": "ebe2a36b-d331-4546-9624-c5c0bd007301",
   "metadata": {},
   "outputs": [],
   "source": [
    "videos_newest.createOrReplaceTempView(\"videos_newest\")"
   ]
  },
  {
   "cell_type": "code",
   "execution_count": 18,
   "id": "6f8dbcc0-b599-472a-93a4-ce4b625ac6b3",
   "metadata": {},
   "outputs": [],
   "source": [
    "from pyspark.sql.column import Column, _to_java_column, _to_seq\n",
    "\n",
    "sc = spark.sparkContext\n",
    "def udfSplitTagsScalaWraper(tags_string):\n",
    "    _udf = sc._jvm.CustomUDFs.splitTagsUDF()\n",
    "    return Column(_udf.apply(_to_seq(sc, [tags_string], _to_java_column)))"
   ]
  },
  {
   "cell_type": "code",
   "execution_count": 19,
   "id": "e59a44a8-2f32-492f-b57a-61025a0312d5",
   "metadata": {
    "scrolled": true
   },
   "outputs": [
    {
     "name": "stdout",
     "output_type": "stream",
     "text": [
      "1.69 s ± 183 ms per loop (mean ± std. dev. of 5 runs, 1 loop each)\n"
     ]
    }
   ],
   "source": [
    "%%timeit -r 5\n",
    "videos_newest.select(udfSplitTagsScalaWraper(col('tags')).alias('tags_array')).count()"
   ]
  },
  {
   "cell_type": "code",
   "execution_count": 20,
   "id": "54b09488-0b66-4708-8e64-ee559a064201",
   "metadata": {},
   "outputs": [],
   "source": [
    "@pandas_udf(ArrayType(StringType()), functionType=PandasUDFType.SCALAR)\n",
    "def pandas_split(tags_string: pd.Series) -> pd.Series:\n",
    "    return tags_string.str.split('|')"
   ]
  },
  {
   "cell_type": "code",
   "execution_count": 21,
   "id": "43d5cada-f07e-4159-b00c-aac4bbccc09c",
   "metadata": {
    "scrolled": true
   },
   "outputs": [
    {
     "name": "stdout",
     "output_type": "stream",
     "text": [
      "1.48 s ± 156 ms per loop (mean ± std. dev. of 5 runs, 1 loop each)\n"
     ]
    }
   ],
   "source": [
    "%%timeit -r 5\n",
    "videos_newest.select(pandas_split(col('tags')).alias('tags_array')).count()"
   ]
  },
  {
   "cell_type": "raw",
   "id": "affcf901-6339-4176-9421-71e713976ab9",
   "metadata": {},
   "source": [
    "наша PandasUDF тоже хороша, возьмем ее"
   ]
  },
  {
   "cell_type": "code",
   "execution_count": 22,
   "id": "88faa10c-f61f-456f-97c6-22bef12bb49c",
   "metadata": {},
   "outputs": [],
   "source": [
    "popular_tags = videos_newest \\\n",
    "    .select(\"video_id\", explode(pandas_split(col(\"tags\"))).alias(\"tag\"))\\\n",
    "    .distinct()\\\n",
    "    .groupBy(\"tag\")\\\n",
    "    .count()"
   ]
  },
  {
   "cell_type": "code",
   "execution_count": 23,
   "id": "8792c5be-cc2c-4186-9e87-2c4708ba3a83",
   "metadata": {},
   "outputs": [
    {
     "name": "stdout",
     "output_type": "stream",
     "text": [
      "+------+-----+\n",
      "|tag   |count|\n",
      "+------+-----+\n",
      "|funny |216  |\n",
      "|comedy|163  |\n",
      "|[none]|146  |\n",
      "|humor |92   |\n",
      "|2017  |92   |\n",
      "|how to|84   |\n",
      "|makeup|77   |\n",
      "|vlog  |73   |\n",
      "|music |73   |\n",
      "|video |72   |\n",
      "+------+-----+\n",
      "only showing top 10 rows\n",
      "\n"
     ]
    }
   ],
   "source": [
    "popular_tags.orderBy(desc(\"count\")).show(10, False)"
   ]
  },
  {
   "cell_type": "markdown",
   "id": "eaf2c92b-f361-4b55-8b50-5cc7602f03c6",
   "metadata": {},
   "source": [
    "## Топ-5 комментариев к видео про котов"
   ]
  },
  {
   "cell_type": "markdown",
   "id": "22654a5b-75e0-4ef8-9970-fafe652f67e3",
   "metadata": {},
   "source": [
    "в датафрейме comments есть популярные видео, на которые много комментариев\n",
    "\n",
    "если мы будем делать join по ключу video_id, то получим перекос в партициях, \n",
    "что может привести к проблемам на экзельюторах, которые будут обрабатывать эти партиции\n",
    "\n",
    "\"посолим\" датафрейм для создания более мелких партиций"
   ]
  },
  {
   "cell_type": "code",
   "execution_count": 24,
   "id": "fe19a0fc-a5fe-4f60-85a4-1620528b4e0a",
   "metadata": {},
   "outputs": [],
   "source": [
    "comments_salted = comments.withColumn('salt', (rand() * 5).cast('int'))\n",
    "\n",
    "videos_enriched = videos_newest \\\n",
    "    .select('video_id', 'tags', explode(array([lit(i) for i in range(5)])).alias('salt'))\n",
    "\n",
    "df = comments_salted.join(videos_enriched, ['video_id', 'salt']).drop('salt')"
   ]
  },
  {
   "cell_type": "code",
   "execution_count": 25,
   "id": "19ea75fe-c30d-4d33-b079-64a1d175b9a9",
   "metadata": {},
   "outputs": [
    {
     "name": "stdout",
     "output_type": "stream",
     "text": [
      "-RECORD 0--------------------------------------------------------------------------------------------------------------\n",
      " comment_text | talk about the ocean sunfish build                                                                     \n",
      " likes_total  | 3968                                                                                                   \n",
      "-RECORD 1--------------------------------------------------------------------------------------------------------------\n",
      " comment_text | The second I read this title in my notification, I started to giggle.                                  \n",
      " likes_total  | 2355                                                                                                   \n",
      "-RECORD 2--------------------------------------------------------------------------------------------------------------\n",
      " comment_text | Make sure to check back next Friday as we are launching our brand new animated HALLOWEEN special! 🐱🕷 \n",
      " likes_total  | 1329                                                                                                   \n",
      "-RECORD 3--------------------------------------------------------------------------------------------------------------\n",
      " comment_text | I make interesting cartoons and I need your help! Go to the channel, rate my work!                     \n",
      " likes_total  | 839                                                                                                    \n",
      "-RECORD 4--------------------------------------------------------------------------------------------------------------\n",
      " comment_text | 1:51 so your nuts are your most prized possession?                                                     \n",
      " likes_total  | 121                                                                                                    \n",
      "only showing top 5 rows\n",
      "\n"
     ]
    }
   ],
   "source": [
    "df.select(pandas_split(col(\"tags\")).alias(\"tags_array\"),\n",
    "            comments.comment_text,\n",
    "            comments.likes)\\\n",
    "    .where(array_contains(\"tags_array\", \"cat\")) \\\n",
    "    .groupBy(\"comment_text\")\\\n",
    "    .agg(sum('likes').alias('likes_total')) \\\n",
    "    .orderBy(desc(\"likes_total\")) \\\n",
    "    .show(5, False, True)"
   ]
  }
 ],
 "metadata": {
  "kernelspec": {
   "display_name": "Python 3 (ipykernel)",
   "language": "python",
   "name": "python3"
  },
  "language_info": {
   "codemirror_mode": {
    "name": "ipython",
    "version": 3
   },
   "file_extension": ".py",
   "mimetype": "text/x-python",
   "name": "python",
   "nbconvert_exporter": "python",
   "pygments_lexer": "ipython3",
   "version": "3.11.3"
  }
 },
 "nbformat": 4,
 "nbformat_minor": 5
}
